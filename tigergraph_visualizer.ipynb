{
  "cells": [
    {
      "cell_type": "code",
      "execution_count": 3,
      "metadata": {
        "id": "xFLsHOfHuyXZ",
        "colab": {
          "base_uri": "https://localhost:8080/",
          "height": 295
        },
        "outputId": "035db31a-958d-4abb-a439-330a2c1fc37e"
      },
      "outputs": [
        {
          "output_type": "stream",
          "name": "stderr",
          "text": [
            "/usr/local/lib/python3.7/dist-packages/ipykernel_launcher.py:8: UserWarning: \n",
            "The dash_table package is deprecated. Please replace\n",
            "`import dash_table` with `from dash import dash_table`\n",
            "\n",
            "Also, if you're using any of the table format helpers (e.g. Group), replace \n",
            "`from dash_table.Format import Group` with \n",
            "`from dash.dash_table.Format import Group`\n",
            "  \n",
            "/usr/local/lib/python3.7/dist-packages/ipykernel_launcher.py:10: UserWarning: \n",
            "The dash_core_components package is deprecated. Please replace\n",
            "`import dash_core_components as dcc` with `from dash import dcc`\n",
            "  # Remove the CWD from sys.path while we load stuff.\n",
            "/usr/local/lib/python3.7/dist-packages/ipykernel_launcher.py:11: UserWarning: \n",
            "The dash_html_components package is deprecated. Please replace\n",
            "`import dash_html_components as html` with `from dash import html`\n",
            "  # This is added back by InteractiveShellApp.init_path()\n"
          ]
        }
      ],
      "source": [
        "!pip install -q jupyter-dash\n",
        "!pip install -q pyTigerGraph\n",
        "# !pip install -q dash_daq\n",
        "# !pip install dash-extensions\n",
        "\n",
        "from jupyter_dash import JupyterDash\n",
        "import dash \n",
        "import dash_table\n",
        "\n",
        "import dash_core_components as dcc\n",
        "import dash_html_components as html\n",
        "from dash.dependencies import Input, Output, State\n",
        "import plotly.express as px\n",
        "import pyTigerGraph as tg\n",
        "import pandas as pd\n"
      ]
    },
    {
      "cell_type": "code",
      "execution_count": 4,
      "metadata": {
        "id": "vHY3KsTO1A-E"
      },
      "outputs": [],
      "source": [
        "TG_HOST = \"https://healthcare.i.tgcloud.io\" \n",
        "TG_USERNAME = \"tigergraph\"  \n",
        "TG_PASSWORD = \"tigergraph\"  \n",
        "TG_GRAPHNAME = \"faers\" "
      ]
    },
    {
      "cell_type": "code",
      "execution_count": 5,
      "metadata": {
        "colab": {
          "base_uri": "https://localhost:8080/"
        },
        "id": "aPi2MLNf-iFp",
        "outputId": "4a11c3bd-c682-4392-85b1-e44f10b8cd3e"
      },
      "outputs": [
        {
          "output_type": "stream",
          "name": "stdout",
          "text": [
            "---- Graph faers\n",
            "Vertex Types:\n",
            "- VERTEX ReportedCase(PRIMARY_ID primaryid UINT, caseid UINT, caseversion UINT, fda_dt DATETIME, mfr_sndr STRING, reporter_country STRING, occr_country STRING) WITH STATS=\"OUTDEGREE_BY_EDGETYPE\"\n",
            "- VERTEX PharmaCompany(PRIMARY_ID primaryid STRING, mfr_sndr STRING) WITH STATS=\"OUTDEGREE_BY_EDGETYPE\"\n",
            "- VERTEX DrugSequence(PRIMARY_ID sequence_id STRING, seqid UINT, role_cod STRING, drugname STRING) WITH STATS=\"OUTDEGREE_BY_EDGETYPE\"\n",
            "- VERTEX Drug(PRIMARY_ID drug_id STRING, drugname STRING, prod_ai STRING) WITH STATS=\"OUTDEGREE_BY_EDGETYPE\"\n",
            "- VERTEX Reaction(PRIMARY_ID reaction_id STRING, pt STRING, drug_rec_act STRING) WITH STATS=\"OUTDEGREE_BY_EDGETYPE\"\n",
            "- VERTEX Outcome(PRIMARY_ID outcome_id STRING, outc_code STRING) WITH STATS=\"OUTDEGREE_BY_EDGETYPE\"\n",
            "- VERTEX ReportSource(PRIMARY_ID reportsource_id STRING, rpsr_code STRING) WITH STATS=\"OUTDEGREE_BY_EDGETYPE\"\n",
            "- VERTEX Patient(PRIMARY_ID primaryid UINT, age FLOAT, age_code STRING, age_grp STRING, sex STRING, weight FLOAT, wt_code STRING, occp_cod STRING) WITH STATS=\"OUTDEGREE_BY_EDGETYPE\"\n",
            "- VERTEX Therapy(PRIMARY_ID therapy_id STRING, dsg_drug_seq UINT, start_date DATETIME, end_date DATETIME) WITH STATS=\"OUTDEGREE_BY_EDGETYPE\"\n",
            "- VERTEX Indication(PRIMARY_ID indication_id STRING, indi_drug_seq UINT, indi_pt STRING) WITH STATS=\"OUTDEGREE_BY_EDGETYPE\"\n",
            "Edge Types:\n",
            "- UNDIRECTED EDGE hasOutcomes(FROM ReportedCase, TO Outcome)\n",
            "- UNDIRECTED EDGE hasReactions(FROM ReportedCase, TO Reaction)\n",
            "- UNDIRECTED EDGE hasReportSources(FROM ReportedCase, TO ReportSource)\n",
            "- UNDIRECTED EDGE hasPatient(FROM ReportedCase, TO Patient)\n",
            "- UNDIRECTED EDGE hasSequences(FROM ReportedCase, TO DrugSequence)\n",
            "- UNDIRECTED EDGE hasDrugs(FROM DrugSequence, TO Drug)\n",
            "- UNDIRECTED EDGE isUsedInTherapy(FROM DrugSequence, TO Therapy)\n",
            "- UNDIRECTED EDGE hasIndications(FROM DrugSequence, TO Indication)\n",
            "- UNDIRECTED EDGE relatedTo(FROM ReportedCase, TO PharmaCompany)\n",
            "- UNDIRECTED EDGE similarCaseTo(FROM ReportedCase, TO ReportedCase, wt FLOAT)\n",
            "\n",
            "Graphs:\n",
            "- Graph faers(ReportedCase:v, PharmaCompany:v, DrugSequence:v, Drug:v, Reaction:v, Outcome:v, ReportSource:v, Patient:v, Therapy:v, Indication:v, hasOutcomes:e, hasReactions:e, hasReportSources:e, hasPatient:e, hasSequences:e, hasDrugs:e, isUsedInTherapy:e, hasIndications:e, relatedTo:e, similarCaseTo:e)\n",
            "Jobs:\n",
            "- CREATE LOADING JOB load_job_THER_csv_1602190369431 FOR GRAPH faers {\n",
            "DEFINE FILENAME MyDataSource;\n",
            "LOAD MyDataSource TO VERTEX Therapy VALUES(gsql_concat($0,$2), $2, $3, $4) USING SEPARATOR=\",\", HEADER=\"true\", EOL=\"\\n\";\n",
            "LOAD MyDataSource TO EDGE isUsedInTherapy VALUES(gsql_concat($0,$2), gsql_concat($0,$2)) USING SEPARATOR=\",\", HEADER=\"true\", EOL=\"\\n\";\n",
            "}\n",
            "\n",
            "- CREATE LOADING JOB load_job_INDI_csv_1602190724475 FOR GRAPH faers {\n",
            "DEFINE FILENAME MyDataSource;\n",
            "LOAD MyDataSource TO VERTEX Indication VALUES(gsql_concat($0,$2), $2, $3) USING SEPARATOR=\",\", HEADER=\"true\", EOL=\"\\n\";\n",
            "LOAD MyDataSource TO EDGE hasIndications VALUES(gsql_concat($0,$2), gsql_concat($0,$2)) USING SEPARATOR=\",\", HEADER=\"true\", EOL=\"\\n\";\n",
            "}\n",
            "\n",
            "- CREATE LOADING JOB load_job_REAC_csv_1602191472831 FOR GRAPH faers {\n",
            "DEFINE FILENAME MyDataSource;\n",
            "LOAD MyDataSource TO VERTEX Reaction VALUES($2, $2, $3) USING SEPARATOR=\",\", HEADER=\"true\", EOL=\"\\n\";\n",
            "LOAD MyDataSource TO EDGE hasReactions VALUES($0, $2) USING SEPARATOR=\",\", HEADER=\"true\", EOL=\"\\n\";\n",
            "}\n",
            "\n",
            "- CREATE LOADING JOB load_job_OUTC_csv_1602191592578 FOR GRAPH faers {\n",
            "DEFINE FILENAME MyDataSource;\n",
            "LOAD MyDataSource TO VERTEX Outcome VALUES($2, $2) USING SEPARATOR=\",\", HEADER=\"true\", EOL=\"\\n\";\n",
            "LOAD MyDataSource TO EDGE hasOutcomes VALUES($0, $2) USING SEPARATOR=\",\", HEADER=\"true\", EOL=\"\\n\";\n",
            "}\n",
            "\n",
            "- CREATE LOADING JOB load_job_RPSR_csv_1602191688427 FOR GRAPH faers {\n",
            "DEFINE FILENAME MyDataSource;\n",
            "LOAD MyDataSource TO VERTEX ReportSource VALUES($2, $2) USING SEPARATOR=\",\", HEADER=\"true\", EOL=\"\\n\";\n",
            "LOAD MyDataSource TO EDGE hasReportSources VALUES($0, $2) USING SEPARATOR=\",\", HEADER=\"true\", EOL=\"\\n\";\n",
            "}\n",
            "\n",
            "- CREATE LOADING JOB load_job_DRUG_csv_1602191121384 FOR GRAPH faers {\n",
            "DEFINE FILENAME MyDataSource;\n",
            "LOAD MyDataSource TO VERTEX Drug VALUES($4, $4, $5) USING SEPARATOR=\",\", HEADER=\"true\", EOL=\"\\n\";\n",
            "LOAD MyDataSource TO VERTEX DrugSequence VALUES(gsql_concat($0,$2), $2, $3, $4) USING SEPARATOR=\",\", HEADER=\"true\", EOL=\"\\n\";\n",
            "LOAD MyDataSource TO EDGE hasDrugs VALUES(gsql_concat($0,$2), $4) USING SEPARATOR=\",\", HEADER=\"true\", EOL=\"\\n\";\n",
            "LOAD MyDataSource TO EDGE hasSequences VALUES($0, gsql_concat($0,$2)) USING SEPARATOR=\",\", HEADER=\"true\", EOL=\"\\n\";\n",
            "}\n",
            "\n",
            "- CREATE LOADING JOB load_job_DEMO_csv_1602191803612 FOR GRAPH faers {\n",
            "DEFINE FILENAME MyDataSource;\n",
            "LOAD MyDataSource TO VERTEX Patient VALUES($0, $13, $14, $15, $16, $18, $19, $22) USING SEPARATOR=\",\", HEADER=\"true\", EOL=\"\\n\";\n",
            "LOAD MyDataSource TO VERTEX PharmaCompany VALUES($11, $11) USING SEPARATOR=\",\", HEADER=\"true\", EOL=\"\\n\";\n",
            "LOAD MyDataSource TO VERTEX ReportedCase VALUES($0, $1, $2, $7, $11, $23, $24) USING SEPARATOR=\",\", HEADER=\"true\", EOL=\"\\n\";\n",
            "LOAD MyDataSource TO EDGE hasPatient VALUES($0, $0) USING SEPARATOR=\",\", HEADER=\"true\", EOL=\"\\n\";\n",
            "LOAD MyDataSource TO EDGE relatedTo VALUES($0, $11) USING SEPARATOR=\",\", HEADER=\"true\", EOL=\"\\n\";\n",
            "}\n",
            "\n",
            "Queries:\n",
            "- jaccard_nbor_reaction(vertex source, string etype, int topK, int sampSize) (installed v2)\n",
            "- mostReportedDrugsForCompany_v2(string companyName, int k, string role) (installed v2)\n",
            "- topSideEffectsForTopDrugs(string companyName, int k, string role) (installed v2)\n",
            "\n",
            "\n",
            "\n",
            "\n"
          ]
        }
      ],
      "source": [
        "conn = tg.TigerGraphConnection(host=TG_HOST, username=TG_USERNAME, password=TG_PASSWORD, graphname=TG_GRAPHNAME)\n",
        "conn.apiToken = conn.getToken(conn.createSecret())\n",
        "\n",
        "print(conn.gsql('''ls''', options=[]))"
      ]
    },
    {
      "cell_type": "code",
      "source": [
        "app = JupyterDash(__name__,suppress_callback_exceptions=True)"
      ],
      "metadata": {
        "id": "BEzindCyWbE7"
      },
      "execution_count": 6,
      "outputs": []
    },
    {
      "cell_type": "code",
      "source": [
        "SIDEBAR_STYLE = {\n",
        "    \"position\": \"fixed\",\n",
        "    \"top\": 0,\n",
        "    \"left\": 0,\n",
        "    \"bottom\": 0,\n",
        "    \"width\": \"16rem\",\n",
        "    \"padding\": \"2rem 1rem\",\n",
        "    \"background-color\": \"#f8f9fa\",\n",
        "}\n",
        "\n",
        "CONTENT_STYLE = {\n",
        "    \"margin-left\": \"18rem\",\n",
        "    \"margin-right\": \"2rem\",\n",
        "    \"padding\": \"2rem 1rem\",\n",
        "}\n",
        "\n",
        "sidebar = html.Div(\n",
        "    [\n",
        "        html.H2(\"FAERS Data Visualization\", className=\"display-4\"),\n",
        "        html.Hr(),\n",
        "        html.P(\n",
        "            \"A simple demo to visualize the most reported cases for a company. Please select the company from the dropdown\", className=\"lead\"\n",
        "        ),\n",
        "        dcc.Dropdown(\n",
        "          id = \"bar_type\",\n",
        "          options=[\n",
        "            {\"label\": \"PFIZER\", \"value\": \"PFIZER\"},\n",
        "            {\"label\": \"GILEAD\", \"value\": \"GILEAD\"},\n",
        "            {\"label\": \"INCYTE\", \"value\": \"INCYTE\"},\n",
        "            {\"label\": \"NOVARTIS\", \"value\": \"NOVARTIS\"}\n",
        "\n",
        "          ],\n",
        "          value=\"PFIZER\"\n",
        "      )\n",
        "    ],\n",
        "    style=SIDEBAR_STYLE,\n",
        "    \n",
        ")\n",
        "\n",
        "content = html.Div(\n",
        "    [\n",
        "     dcc.Graph(id=\"bar-fig\")\n",
        "    ],\n",
        "    style=CONTENT_STYLE,\n",
        ")\n",
        "\n",
        "app.layout = html.Div([sidebar,content])\n"
      ],
      "metadata": {
        "id": "QTeSxHgc8ibk"
      },
      "execution_count": 7,
      "outputs": []
    },
    {
      "cell_type": "code",
      "source": [
        "@app.callback(\n",
        "   Output('bar-fig', 'figure'),\n",
        "   Input('bar_type', 'value'),\n",
        ")\n",
        "def update_graph(value):\n",
        "  com_name = str(value)\n",
        "  res = conn.runInstalledQuery(\"mostReportedDrugsForCompany_v2\", params={\"companyName\":str(com_name),\"k\":5,\"role\":\"PS\"})[0][\"TopDrugs\"]\n",
        "  df = pd.DataFrame(res)\n",
        "  split = [df, pd.DataFrame(df['attributes'].tolist()).iloc[:, :3]]\n",
        "  splitDf = pd.concat(split, axis=1).drop('attributes', axis=1)\n",
        "  bar = px.bar(splitDf, x=\"v_id\", y=\"@numCases\", barmode='overlay')\n",
        "  return bar"
      ],
      "metadata": {
        "id": "macpf3nKXUg7"
      },
      "execution_count": 8,
      "outputs": []
    },
    {
      "cell_type": "code",
      "source": [
        "app.run_server(debug=True)"
      ],
      "metadata": {
        "colab": {
          "base_uri": "https://localhost:8080/",
          "height": 52
        },
        "id": "LG3mdh5yYJn_",
        "outputId": "78e288fc-0a26-46e0-ec62-10ed7c896c2f"
      },
      "execution_count": 9,
      "outputs": [
        {
          "output_type": "stream",
          "name": "stdout",
          "text": [
            "Dash app running on:\n"
          ]
        },
        {
          "output_type": "display_data",
          "data": {
            "application/javascript": [
              "(async (port, path, text, element) => {\n",
              "    if (!google.colab.kernel.accessAllowed) {\n",
              "      return;\n",
              "    }\n",
              "    element.appendChild(document.createTextNode(''));\n",
              "    const url = await google.colab.kernel.proxyPort(port);\n",
              "    const anchor = document.createElement('a');\n",
              "    anchor.href = new URL(path, url).toString();\n",
              "    anchor.target = '_blank';\n",
              "    anchor.setAttribute('data-href', url + path);\n",
              "    anchor.textContent = text;\n",
              "    element.appendChild(anchor);\n",
              "  })(8050, \"/\", \"http://127.0.0.1:8050/\", window.element)"
            ],
            "text/plain": [
              "<IPython.core.display.Javascript object>"
            ]
          },
          "metadata": {}
        }
      ]
    },
    {
      "cell_type": "code",
      "source": [
        ""
      ],
      "metadata": {
        "id": "zWBWxduZyXR1"
      },
      "execution_count": null,
      "outputs": []
    }
  ],
  "metadata": {
    "colab": {
      "collapsed_sections": [
        "_jtVIgnDFxZY",
        "jfHoRpSN0dko",
        "U8_U9tM_l6_s",
        "FOHNQ1lHQw8B",
        "GTDEhomwQ1iK"
      ],
      "name": "tigergraph-visualizer.ipynb",
      "provenance": []
    },
    "kernelspec": {
      "display_name": "Python 3",
      "name": "python3"
    },
    "language_info": {
      "name": "python"
    },
    "accelerator": "GPU"
  },
  "nbformat": 4,
  "nbformat_minor": 0
}